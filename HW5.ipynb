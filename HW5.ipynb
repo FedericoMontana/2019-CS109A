{
  "nbformat": 4,
  "nbformat_minor": 0,
  "metadata": {
    "colab": {
      "name": "HW5.ipynb",
      "provenance": [],
      "collapsed_sections": [],
      "mount_file_id": "https://github.com/FedericoMontana/DeepLearning/blob/master/HW_5.ipynb",
      "authorship_tag": "ABX9TyNr4SMjHeEQRG31Fe8jj/Hh",
      "include_colab_link": true
    },
    "kernelspec": {
      "name": "python3",
      "display_name": "Python 3"
    }
  },
  "cells": [
    {
      "cell_type": "markdown",
      "metadata": {
        "id": "view-in-github",
        "colab_type": "text"
      },
      "source": [
        "<a href=\"https://colab.research.google.com/github/FedericoMontana/2019-CS109A/blob/master/HW5.ipynb\" target=\"_parent\"><img src=\"https://colab.research.google.com/assets/colab-badge.svg\" alt=\"Open In Colab\"/></a>"
      ]
    },
    {
      "cell_type": "code",
      "metadata": {
        "id": "mczYbO9gw6Kz",
        "colab_type": "code",
        "colab": {}
      },
      "source": [
        "testtest\n"
      ],
      "execution_count": 0,
      "outputs": []
    }
  ]
}